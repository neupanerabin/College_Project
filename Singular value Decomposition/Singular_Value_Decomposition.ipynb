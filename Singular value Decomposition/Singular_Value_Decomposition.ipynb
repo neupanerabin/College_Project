{
 "cells": [
  {
   "cell_type": "markdown",
   "id": "60148e04",
   "metadata": {},
   "source": [
    "## Book Recommendation Project"
   ]
  },
  {
   "cell_type": "markdown",
   "id": "2556d0f4",
   "metadata": {},
   "source": [
    "Recommendation Systems are one of the largest application areas of Machine Learning. They enable tailoring personalized content for users, thereby generating revenue for businesses\n",
    "\n",
    "There are 2 main types of personalized recommendation systems:\n",
    "\n",
    "### Content based filtering\n",
    "\n",
    "   Recommendations are based on user's past likes/ dislikes & item feature space. The system makes recommendations which are similar to items the user has liked in the past. Items are considered similar based on item's features such as author, publisher, genre etc\n",
    "    \n",
    "    \n",
    "### Collaborative based filtering\n",
    "\n",
    "  Recommendations are based solely on user's past likes/ dislikes & how other users have rated other items. The system does not take into consideration an item's features like author, publisher, genre etc nor a user's features like age, gender, location etc. These take either a memory based approach or a model based approach\n",
    "\n",
    "   **(1)Memory based approach**: Utilizes entire user-item rating information to calculate similarity scores between items or users for making recommendations. These are further either of 2 types:\n",
    "    \n",
    "   - __User based__: Two users are considered similar, if they rate items in a similar manner. An item is recommended to a user, if another user i.e., similar to the user in question has liked the item\n",
    "           \n",
    "   - __Item based__: Two items are considered similar, if users rate them in a similar manner. An item is recommended to a user, that is similar to the items the user has rated in the past\n",
    "  \n",
    "  \n",
    " \n",
    "   **(2)Model based approach**: Utilizes user-item rating information to build a model & the model (not the entire dataset) is thereafter used for making recommendations. This approach is preferred in instances where time & scalability are a concern\n",
    "\n",
    "\n",
    "This project aims to build a recommendation system based on collaborative filtering & will tackle an example of both memory based & model based algorithm"
   ]
  },
  {
   "cell_type": "markdown",
   "id": "33aa7c84",
   "metadata": {},
   "source": [
    "### Datasource: \n",
    "\n",
    "This project will use the 'Book-Crossing dataset' collected by Cai-Nicolas Ziegler (http://www2.informatik.uni-freiburg.de/~cziegler/BX/)\n",
    "\n",
    "The dataset consists of 3 different tables:\n",
    " - 'BX-Users': 278,858 records \n",
    " - 'BX-Books': 271,379 records\n",
    " - 'BX-Book-Ratings' : 1,149,780 records "
   ]
  },
  {
   "cell_type": "code",
   "execution_count": 33,
   "id": "233533de",
   "metadata": {},
   "outputs": [],
   "source": [
    "# Libraries for data preparation & visualization\n",
    "import numpy as np\n",
    "import pandas as pd\n",
    "import plotly.offline as py\n",
    "import plotly.graph_objs as go\n",
    "import plotly.io as pio\n",
    "pio.renderers.default = \"png\"\n",
    "\n",
    "# Ignore printing warnings for general readability\n",
    "import warnings \n",
    "warnings.filterwarnings(\"ignore\")\n",
    "\n",
    "# pip install scikit-surprise\n",
    "# Importing libraries for model building & evaluation\n",
    "# from sklearn.model_selection import train_test_split\n",
    "# from surprise import Reader, Dataset\n",
    "# from surprise.model_selection import train_test_split, cross_validate, GridSearchCV\n",
    "# from surprise import KNNBasic, KNNWithMeans, KNNWithZScore, KNNBaseline, SVD\n",
    "# from surprise import accuracy"
   ]
  },
  {
   "cell_type": "code",
   "execution_count": 34,
   "id": "2d4efe10",
   "metadata": {},
   "outputs": [],
   "source": [
    "import pandas as pd\n",
    "\n",
    "# Read the 3 different csv files \n",
    "book = pd.read_csv('/Users/rabin/College_Project_Seven/Books.csv', low_memory=False)\n",
    "rating = pd.read_csv('/Users/rabin/College_Project_Seven/Ratings.csv', encoding='latin-1', delimiter=';')\n",
    "user = pd.read_csv('/Users/rabin/College_Project_Seven/Users.csv', encoding='latin-1', delimiter=';')\n"
   ]
  },
  {
   "cell_type": "markdown",
   "id": "9efbed54",
   "metadata": {},
   "source": [
    "### Exploring 'Book-Rating'"
   ]
  },
  {
   "cell_type": "code",
   "execution_count": 35,
   "id": "02e28abb",
   "metadata": {},
   "outputs": [
    {
     "data": {
      "text/plain": [
       "(1149780, 3)"
      ]
     },
     "execution_count": 35,
     "metadata": {},
     "output_type": "execute_result"
    }
   ],
   "source": [
    "rating.shape"
   ]
  },
  {
   "cell_type": "markdown",
   "id": "43ddef2d",
   "metadata": {},
   "source": [
    "- There are 1,149,780 rows & 3 columns"
   ]
  },
  {
   "cell_type": "code",
   "execution_count": 36,
   "id": "46a4d886",
   "metadata": {},
   "outputs": [
    {
     "data": {
      "text/html": [
       "<div>\n",
       "<style scoped>\n",
       "    .dataframe tbody tr th:only-of-type {\n",
       "        vertical-align: middle;\n",
       "    }\n",
       "\n",
       "    .dataframe tbody tr th {\n",
       "        vertical-align: top;\n",
       "    }\n",
       "\n",
       "    .dataframe thead th {\n",
       "        text-align: right;\n",
       "    }\n",
       "</style>\n",
       "<table border=\"1\" class=\"dataframe\">\n",
       "  <thead>\n",
       "    <tr style=\"text-align: right;\">\n",
       "      <th></th>\n",
       "      <th>User-ID</th>\n",
       "      <th>ISBN</th>\n",
       "      <th>Book-Rating</th>\n",
       "    </tr>\n",
       "  </thead>\n",
       "  <tbody>\n",
       "    <tr>\n",
       "      <th>0</th>\n",
       "      <td>276725</td>\n",
       "      <td>034545104X</td>\n",
       "      <td>0</td>\n",
       "    </tr>\n",
       "    <tr>\n",
       "      <th>1</th>\n",
       "      <td>276726</td>\n",
       "      <td>0155061224</td>\n",
       "      <td>5</td>\n",
       "    </tr>\n",
       "    <tr>\n",
       "      <th>2</th>\n",
       "      <td>276727</td>\n",
       "      <td>0446520802</td>\n",
       "      <td>0</td>\n",
       "    </tr>\n",
       "  </tbody>\n",
       "</table>\n",
       "</div>"
      ],
      "text/plain": [
       "   User-ID        ISBN  Book-Rating\n",
       "0   276725  034545104X            0\n",
       "1   276726  0155061224            5\n",
       "2   276727  0446520802            0"
      ]
     },
     "execution_count": 36,
     "metadata": {},
     "output_type": "execute_result"
    }
   ],
   "source": [
    "rating.head(3)"
   ]
  },
  {
   "cell_type": "code",
   "execution_count": 37,
   "id": "f6dfaf5f",
   "metadata": {},
   "outputs": [
    {
     "name": "stdout",
     "output_type": "stream",
     "text": [
      "<class 'pandas.core.frame.DataFrame'>\n",
      "RangeIndex: 1149780 entries, 0 to 1149779\n",
      "Data columns (total 3 columns):\n",
      " #   Column       Non-Null Count    Dtype \n",
      "---  ------       --------------    ----- \n",
      " 0   User-ID      1149780 non-null  int64 \n",
      " 1   ISBN         1149780 non-null  object\n",
      " 2   Book-Rating  1149780 non-null  int64 \n",
      "dtypes: int64(2), object(1)\n",
      "memory usage: 26.3+ MB\n"
     ]
    }
   ],
   "source": [
    "# Check datatypes & missing values\n",
    "rating.info()"
   ]
  },
  {
   "cell_type": "markdown",
   "id": "ea124ac0",
   "metadata": {},
   "source": [
    "- There are no missing values"
   ]
  },
  {
   "cell_type": "code",
   "execution_count": 38,
   "id": "624aa92e",
   "metadata": {},
   "outputs": [
    {
     "name": "stdout",
     "output_type": "stream",
     "text": [
      "Duplicate entries: 0\n"
     ]
    }
   ],
   "source": [
    "# Check for duplicate values\n",
    "print(f'Duplicate entries: {rating.duplicated().sum()}')"
   ]
  },
  {
   "cell_type": "code",
   "execution_count": 39,
   "id": "8d1c2ea4",
   "metadata": {},
   "outputs": [
    {
     "data": {
      "image/png": "[encoded data removed]"
     },
     "metadata": {},
     "output_type": "display_data"
    }
   ],
   "source": [
    "# Let's visualize the 'Book-Rating' column\n",
    "\n",
    "rating_types = rating['Book-Rating'].value_counts()\n",
    "x,y   = rating_types.index, rating_types.values\n",
    "data  = go.Bar(x=x,y=y, text=y, textposition=\"outside\")\n",
    "Layout=go.Layout(title=\"Count of ratings\",xaxis={'title':'Rating'},yaxis={'title':'Count'})\n",
    "go.Figure(data,Layout)\n"
   ]
  },
  {
   "cell_type": "markdown",
   "id": "004679b7",
   "metadata": {},
   "source": [
    "Ratings are of two types, an implicit rating & explicit rating. An implicit rating is based on tracking user interaction with an item such as a user clicking on an item and in this case is recorded as rating '0'. An explicit rating is when a user explicitly rates an item, in this case on a numeric scale of '1-10'\n",
    "\n",
    "- Majority of ratings are implicit i.e., rating '0'\n",
    "- Rating of '8' has the highest rating count among explicit ratings '1-10'"
   ]
  },
  {
   "cell_type": "code",
   "execution_count": 40,
   "id": "9b6736c2",
   "metadata": {},
   "outputs": [
    {
     "data": {
      "image/png": "[encoded data removed]"
     },
     "metadata": {},
     "output_type": "display_data"
    }
   ],
   "source": [
    "# Let's visualize ratings given by users\n",
    "\n",
    "rating_users = rating['User-ID'].value_counts().reset_index().\\\n",
    "               rename({'Index':'User-ID','User-ID':'Rating'}, axis=1)\n",
    "\n",
    "data  = go.Scatter(x = rating_users.index, y= rating_users['Rating'])\n",
    "Layout= go.Layout(title=\"Ratings given per user\",xaxis={'title':'User Count'}, yaxis={'title':'Ratings'})\n",
    "go.Figure(data,Layout)\n"
   ]
  },
  {
   "cell_type": "markdown",
   "id": "81282196",
   "metadata": {},
   "source": [
    "There is inherent bias in the dataset. There are few users who rate a lot & several users that provide very few ratings. One user has provided 13K+ ratings, only ~700 users (out of 100K+ users) have provided over 250 ratings"
   ]
  },
  {
   "cell_type": "code",
   "execution_count": 41,
   "id": "b8a3a2f9",
   "metadata": {},
   "outputs": [
    {
     "data": {
      "image/png": "[encoded data removed]"
     },
     "metadata": {},
     "output_type": "display_data"
    }
   ],
   "source": [
    "# Let's visualize ratings received by books\n",
    "\n",
    "rating_books = rating['ISBN'].value_counts().reset_index().\\\n",
    "               rename({'Index':'ISBN','ISBN':'Rating'}, axis=1)\n",
    "\n",
    "data  = go.Scatter(x = rating_books.index, y= rating_books['Rating'])\n",
    "Layout= go.Layout(title=\"Ratings received per book\",xaxis={'title':'Book Count'}, yaxis={'title':'Ratings'})\n",
    "go.Figure(data, Layout)                            \n"
   ]
  },
  {
   "cell_type": "markdown",
   "id": "2f866000",
   "metadata": {},
   "source": [
    "A similar bias is observed. There are a few books that have received many ratings and several books that have received very few ratings. One book has received over 2500 ratings, only ~2100 books (out of 300K+ books) have received more than 50 ratings"
   ]
  },
  {
   "cell_type": "code",
   "execution_count": 42,
   "id": "ffab4774",
   "metadata": {},
   "outputs": [
    {
     "ename": "TypeError",
     "evalue": "'>' not supported between instances of 'str' and 'int'",
     "output_type": "error",
     "traceback": [
      "\u001b[0;31m---------------------------------------------------------------------------\u001b[0m",
      "\u001b[0;31mTypeError\u001b[0m                                 Traceback (most recent call last)",
      "Cell \u001b[0;32mIn[42], line 4\u001b[0m\n\u001b[1;32m      1\u001b[0m \u001b[38;5;66;03m# In order to avoid rating bias & for making good recommendations, limit the dataset to only those\u001b[39;00m\n\u001b[1;32m      2\u001b[0m \u001b[38;5;66;03m# users that have made at least 250 ratings & books that have received at least 50 ratings\u001b[39;00m\n\u001b[1;32m      3\u001b[0m rating \u001b[38;5;241m=\u001b[39m rating[rating[\u001b[38;5;124m'\u001b[39m\u001b[38;5;124mUser-ID\u001b[39m\u001b[38;5;124m'\u001b[39m]\u001b[38;5;241m.\u001b[39misin(rating_users[rating_users[\u001b[38;5;124m'\u001b[39m\u001b[38;5;124mRating\u001b[39m\u001b[38;5;124m'\u001b[39m] \u001b[38;5;241m>\u001b[39m \u001b[38;5;241m250\u001b[39m]\u001b[38;5;241m.\u001b[39mindex)]\n\u001b[0;32m----> 4\u001b[0m rating \u001b[38;5;241m=\u001b[39m rating[rating[\u001b[38;5;124m'\u001b[39m\u001b[38;5;124mISBN\u001b[39m\u001b[38;5;124m'\u001b[39m]\u001b[38;5;241m.\u001b[39misin(rating_books[\u001b[43mrating_books\u001b[49m\u001b[43m[\u001b[49m\u001b[38;5;124;43m'\u001b[39;49m\u001b[38;5;124;43mRating\u001b[39;49m\u001b[38;5;124;43m'\u001b[39;49m\u001b[43m]\u001b[49m\u001b[43m \u001b[49m\u001b[38;5;241;43m>\u001b[39;49m\u001b[43m \u001b[49m\u001b[38;5;241;43m50\u001b[39;49m]\u001b[38;5;241m.\u001b[39mindex)]\n\u001b[1;32m      6\u001b[0m rating\n",
      "File \u001b[0;32m/opt/homebrew/Cellar/jupyterlab/4.0.10/libexec/lib/python3.12/site-packages/pandas/core/ops/common.py:76\u001b[0m, in \u001b[0;36m_unpack_zerodim_and_defer.<locals>.new_method\u001b[0;34m(self, other)\u001b[0m\n\u001b[1;32m     72\u001b[0m             \u001b[38;5;28;01mreturn\u001b[39;00m \u001b[38;5;28mNotImplemented\u001b[39m\n\u001b[1;32m     74\u001b[0m other \u001b[38;5;241m=\u001b[39m item_from_zerodim(other)\n\u001b[0;32m---> 76\u001b[0m \u001b[38;5;28;01mreturn\u001b[39;00m \u001b[43mmethod\u001b[49m\u001b[43m(\u001b[49m\u001b[38;5;28;43mself\u001b[39;49m\u001b[43m,\u001b[49m\u001b[43m \u001b[49m\u001b[43mother\u001b[49m\u001b[43m)\u001b[49m\n",
      "File \u001b[0;32m/opt/homebrew/Cellar/jupyterlab/4.0.10/libexec/lib/python3.12/site-packages/pandas/core/arraylike.py:56\u001b[0m, in \u001b[0;36mOpsMixin.__gt__\u001b[0;34m(self, other)\u001b[0m\n\u001b[1;32m     54\u001b[0m \u001b[38;5;129m@unpack_zerodim_and_defer\u001b[39m(\u001b[38;5;124m\"\u001b[39m\u001b[38;5;124m__gt__\u001b[39m\u001b[38;5;124m\"\u001b[39m)\n\u001b[1;32m     55\u001b[0m \u001b[38;5;28;01mdef\u001b[39;00m \u001b[38;5;21m__gt__\u001b[39m(\u001b[38;5;28mself\u001b[39m, other):\n\u001b[0;32m---> 56\u001b[0m     \u001b[38;5;28;01mreturn\u001b[39;00m \u001b[38;5;28;43mself\u001b[39;49m\u001b[38;5;241;43m.\u001b[39;49m\u001b[43m_cmp_method\u001b[49m\u001b[43m(\u001b[49m\u001b[43mother\u001b[49m\u001b[43m,\u001b[49m\u001b[43m \u001b[49m\u001b[43moperator\u001b[49m\u001b[38;5;241;43m.\u001b[39;49m\u001b[43mgt\u001b[49m\u001b[43m)\u001b[49m\n",
      "File \u001b[0;32m/opt/homebrew/Cellar/jupyterlab/4.0.10/libexec/lib/python3.12/site-packages/pandas/core/series.py:6099\u001b[0m, in \u001b[0;36mSeries._cmp_method\u001b[0;34m(self, other, op)\u001b[0m\n\u001b[1;32m   6096\u001b[0m lvalues \u001b[38;5;241m=\u001b[39m \u001b[38;5;28mself\u001b[39m\u001b[38;5;241m.\u001b[39m_values\n\u001b[1;32m   6097\u001b[0m rvalues \u001b[38;5;241m=\u001b[39m extract_array(other, extract_numpy\u001b[38;5;241m=\u001b[39m\u001b[38;5;28;01mTrue\u001b[39;00m, extract_range\u001b[38;5;241m=\u001b[39m\u001b[38;5;28;01mTrue\u001b[39;00m)\n\u001b[0;32m-> 6099\u001b[0m res_values \u001b[38;5;241m=\u001b[39m \u001b[43mops\u001b[49m\u001b[38;5;241;43m.\u001b[39;49m\u001b[43mcomparison_op\u001b[49m\u001b[43m(\u001b[49m\u001b[43mlvalues\u001b[49m\u001b[43m,\u001b[49m\u001b[43m \u001b[49m\u001b[43mrvalues\u001b[49m\u001b[43m,\u001b[49m\u001b[43m \u001b[49m\u001b[43mop\u001b[49m\u001b[43m)\u001b[49m\n\u001b[1;32m   6101\u001b[0m \u001b[38;5;28;01mreturn\u001b[39;00m \u001b[38;5;28mself\u001b[39m\u001b[38;5;241m.\u001b[39m_construct_result(res_values, name\u001b[38;5;241m=\u001b[39mres_name)\n",
      "File \u001b[0;32m/opt/homebrew/Cellar/jupyterlab/4.0.10/libexec/lib/python3.12/site-packages/pandas/core/ops/array_ops.py:344\u001b[0m, in \u001b[0;36mcomparison_op\u001b[0;34m(left, right, op)\u001b[0m\n\u001b[1;32m    341\u001b[0m     \u001b[38;5;28;01mreturn\u001b[39;00m invalid_comparison(lvalues, rvalues, op)\n\u001b[1;32m    343\u001b[0m \u001b[38;5;28;01melif\u001b[39;00m lvalues\u001b[38;5;241m.\u001b[39mdtype \u001b[38;5;241m==\u001b[39m \u001b[38;5;28mobject\u001b[39m \u001b[38;5;129;01mor\u001b[39;00m \u001b[38;5;28misinstance\u001b[39m(rvalues, \u001b[38;5;28mstr\u001b[39m):\n\u001b[0;32m--> 344\u001b[0m     res_values \u001b[38;5;241m=\u001b[39m \u001b[43mcomp_method_OBJECT_ARRAY\u001b[49m\u001b[43m(\u001b[49m\u001b[43mop\u001b[49m\u001b[43m,\u001b[49m\u001b[43m \u001b[49m\u001b[43mlvalues\u001b[49m\u001b[43m,\u001b[49m\u001b[43m \u001b[49m\u001b[43mrvalues\u001b[49m\u001b[43m)\u001b[49m\n\u001b[1;32m    346\u001b[0m \u001b[38;5;28;01melse\u001b[39;00m:\n\u001b[1;32m    347\u001b[0m     res_values \u001b[38;5;241m=\u001b[39m _na_arithmetic_op(lvalues, rvalues, op, is_cmp\u001b[38;5;241m=\u001b[39m\u001b[38;5;28;01mTrue\u001b[39;00m)\n",
      "File \u001b[0;32m/opt/homebrew/Cellar/jupyterlab/4.0.10/libexec/lib/python3.12/site-packages/pandas/core/ops/array_ops.py:129\u001b[0m, in \u001b[0;36mcomp_method_OBJECT_ARRAY\u001b[0;34m(op, x, y)\u001b[0m\n\u001b[1;32m    127\u001b[0m     result \u001b[38;5;241m=\u001b[39m libops\u001b[38;5;241m.\u001b[39mvec_compare(x\u001b[38;5;241m.\u001b[39mravel(), y\u001b[38;5;241m.\u001b[39mravel(), op)\n\u001b[1;32m    128\u001b[0m \u001b[38;5;28;01melse\u001b[39;00m:\n\u001b[0;32m--> 129\u001b[0m     result \u001b[38;5;241m=\u001b[39m \u001b[43mlibops\u001b[49m\u001b[38;5;241;43m.\u001b[39;49m\u001b[43mscalar_compare\u001b[49m\u001b[43m(\u001b[49m\u001b[43mx\u001b[49m\u001b[38;5;241;43m.\u001b[39;49m\u001b[43mravel\u001b[49m\u001b[43m(\u001b[49m\u001b[43m)\u001b[49m\u001b[43m,\u001b[49m\u001b[43m \u001b[49m\u001b[43my\u001b[49m\u001b[43m,\u001b[49m\u001b[43m \u001b[49m\u001b[43mop\u001b[49m\u001b[43m)\u001b[49m\n\u001b[1;32m    130\u001b[0m \u001b[38;5;28;01mreturn\u001b[39;00m result\u001b[38;5;241m.\u001b[39mreshape(x\u001b[38;5;241m.\u001b[39mshape)\n",
      "File \u001b[0;32mops.pyx:107\u001b[0m, in \u001b[0;36mpandas._libs.ops.scalar_compare\u001b[0;34m()\u001b[0m\n",
      "\u001b[0;31mTypeError\u001b[0m: '>' not supported between instances of 'str' and 'int'"
     ]
    }
   ],
   "source": [
    "# In order to avoid rating bias & for making good recommendations, limit the dataset to only those\n",
    "# users that have made at least 250 ratings & books that have received at least 50 ratings\n",
    "rating = rating[rating['User-ID'].isin(rating_users[rating_users['Rating'] > 250].index)]\n",
    "rating = rating[rating['ISBN'].isin(rating_books[rating_books['Rating'] > 50].index)]\n",
    "\n",
    "rating\n"
   ]
  },
  {
   "cell_type": "code",
   "execution_count": 43,
   "id": "ad565ec3",
   "metadata": {},
   "outputs": [
    {
     "data": {
      "text/html": [
       "<div>\n",
       "<style scoped>\n",
       "    .dataframe tbody tr th:only-of-type {\n",
       "        vertical-align: middle;\n",
       "    }\n",
       "\n",
       "    .dataframe tbody tr th {\n",
       "        vertical-align: top;\n",
       "    }\n",
       "\n",
       "    .dataframe thead th {\n",
       "        text-align: right;\n",
       "    }\n",
       "</style>\n",
       "<table border=\"1\" class=\"dataframe\">\n",
       "  <thead>\n",
       "    <tr style=\"text-align: right;\">\n",
       "      <th></th>\n",
       "      <th>User-ID</th>\n",
       "      <th>Book-Title</th>\n",
       "      <th>Book-Rating</th>\n",
       "    </tr>\n",
       "  </thead>\n",
       "  <tbody>\n",
       "    <tr>\n",
       "      <th>0</th>\n",
       "      <td>2</td>\n",
       "      <td>Classical Mythology</td>\n",
       "      <td>0</td>\n",
       "    </tr>\n",
       "    <tr>\n",
       "      <th>1</th>\n",
       "      <td>8</td>\n",
       "      <td>Clara Callan</td>\n",
       "      <td>5</td>\n",
       "    </tr>\n",
       "    <tr>\n",
       "      <th>2</th>\n",
       "      <td>8</td>\n",
       "      <td>Decision in Normandy</td>\n",
       "      <td>0</td>\n",
       "    </tr>\n",
       "    <tr>\n",
       "      <th>3</th>\n",
       "      <td>8</td>\n",
       "      <td>Flu: The Story of the Great Influenza Pandemic...</td>\n",
       "      <td>0</td>\n",
       "    </tr>\n",
       "    <tr>\n",
       "      <th>4</th>\n",
       "      <td>8</td>\n",
       "      <td>The Mummies of Urumchi</td>\n",
       "      <td>0</td>\n",
       "    </tr>\n",
       "    <tr>\n",
       "      <th>...</th>\n",
       "      <td>...</td>\n",
       "      <td>...</td>\n",
       "      <td>...</td>\n",
       "    </tr>\n",
       "    <tr>\n",
       "      <th>385069</th>\n",
       "      <td>105266</td>\n",
       "      <td>The Da Vinci Code</td>\n",
       "      <td>7</td>\n",
       "    </tr>\n",
       "    <tr>\n",
       "      <th>385070</th>\n",
       "      <td>105274</td>\n",
       "      <td>The Never Ending Story</td>\n",
       "      <td>0</td>\n",
       "    </tr>\n",
       "    <tr>\n",
       "      <th>385071</th>\n",
       "      <td>105277</td>\n",
       "      <td>Banish Your Belly : The Ultimate Guide for Ach...</td>\n",
       "      <td>0</td>\n",
       "    </tr>\n",
       "    <tr>\n",
       "      <th>385072</th>\n",
       "      <td>105282</td>\n",
       "      <td>The Sparrow</td>\n",
       "      <td>0</td>\n",
       "    </tr>\n",
       "    <tr>\n",
       "      <th>385073</th>\n",
       "      <td>105282</td>\n",
       "      <td>Living Deliberately: The Discovery and Develop...</td>\n",
       "      <td>0</td>\n",
       "    </tr>\n",
       "  </tbody>\n",
       "</table>\n",
       "<p>385074 rows × 3 columns</p>\n",
       "</div>"
      ],
      "text/plain": [
       "        User-ID                                         Book-Title  \\\n",
       "0             2                                Classical Mythology   \n",
       "1             8                                       Clara Callan   \n",
       "2             8                               Decision in Normandy   \n",
       "3             8  Flu: The Story of the Great Influenza Pandemic...   \n",
       "4             8                             The Mummies of Urumchi   \n",
       "...         ...                                                ...   \n",
       "385069   105266                                  The Da Vinci Code   \n",
       "385070   105274                             The Never Ending Story   \n",
       "385071   105277  Banish Your Belly : The Ultimate Guide for Ach...   \n",
       "385072   105282                                        The Sparrow   \n",
       "385073   105282  Living Deliberately: The Discovery and Develop...   \n",
       "\n",
       "        Book-Rating  \n",
       "0                 0  \n",
       "1                 5  \n",
       "2                 0  \n",
       "3                 0  \n",
       "4                 0  \n",
       "...             ...  \n",
       "385069            7  \n",
       "385070            0  \n",
       "385071            0  \n",
       "385072            0  \n",
       "385073            0  \n",
       "\n",
       "[385074 rows x 3 columns]"
      ]
     },
     "execution_count": 43,
     "metadata": {},
     "output_type": "execute_result"
    }
   ],
   "source": [
    "# For the recommendation system, it is prefered to have the book titles rather than ISBN for easier interpretation\n",
    "\n",
    "rating = rating.merge(book, on=\"ISBN\")[['User-ID','Book-Title','Book-Rating']] # merging with the book dataframe\n",
    "rating                                                                         # on 'ISBN' to get 'Book-Title'"
   ]
  },
  {
   "cell_type": "markdown",
   "id": "c972acea",
   "metadata": {},
   "source": [
    "- This has removed 534 records, possibly because there were some ISBN entries in the rating table that were not present in the book table. Finally, there are 79313 records"
   ]
  },
  {
   "cell_type": "code",
   "execution_count": 44,
   "id": "90b81ad2",
   "metadata": {},
   "outputs": [
    {
     "name": "stdout",
     "output_type": "stream",
     "text": [
      "Duplicate entries: 1306\n"
     ]
    }
   ],
   "source": [
    "# Check for duplicate values\n",
    "print(f'Duplicate entries: {rating.duplicated().sum()}')"
   ]
  },
  {
   "cell_type": "markdown",
   "id": "ace85dce",
   "metadata": {},
   "source": [
    "Merging rating & book has introduced 531 duplicate records which will be dropped"
   ]
  },
  {
   "cell_type": "code",
   "execution_count": 45,
   "id": "9f536442",
   "metadata": {},
   "outputs": [
    {
     "data": {
      "text/html": [
       "<div>\n",
       "<style scoped>\n",
       "    .dataframe tbody tr th:only-of-type {\n",
       "        vertical-align: middle;\n",
       "    }\n",
       "\n",
       "    .dataframe tbody tr th {\n",
       "        vertical-align: top;\n",
       "    }\n",
       "\n",
       "    .dataframe thead th {\n",
       "        text-align: right;\n",
       "    }\n",
       "</style>\n",
       "<table border=\"1\" class=\"dataframe\">\n",
       "  <thead>\n",
       "    <tr style=\"text-align: right;\">\n",
       "      <th></th>\n",
       "      <th>User-ID</th>\n",
       "      <th>Book-Title</th>\n",
       "      <th>Book-Rating</th>\n",
       "    </tr>\n",
       "  </thead>\n",
       "  <tbody>\n",
       "    <tr>\n",
       "      <th>0</th>\n",
       "      <td>2</td>\n",
       "      <td>Classical Mythology</td>\n",
       "      <td>0</td>\n",
       "    </tr>\n",
       "    <tr>\n",
       "      <th>1</th>\n",
       "      <td>8</td>\n",
       "      <td>Clara Callan</td>\n",
       "      <td>5</td>\n",
       "    </tr>\n",
       "    <tr>\n",
       "      <th>2</th>\n",
       "      <td>8</td>\n",
       "      <td>Decision in Normandy</td>\n",
       "      <td>0</td>\n",
       "    </tr>\n",
       "    <tr>\n",
       "      <th>3</th>\n",
       "      <td>8</td>\n",
       "      <td>Flu: The Story of the Great Influenza Pandemic...</td>\n",
       "      <td>0</td>\n",
       "    </tr>\n",
       "    <tr>\n",
       "      <th>4</th>\n",
       "      <td>8</td>\n",
       "      <td>The Mummies of Urumchi</td>\n",
       "      <td>0</td>\n",
       "    </tr>\n",
       "    <tr>\n",
       "      <th>...</th>\n",
       "      <td>...</td>\n",
       "      <td>...</td>\n",
       "      <td>...</td>\n",
       "    </tr>\n",
       "    <tr>\n",
       "      <th>385069</th>\n",
       "      <td>105266</td>\n",
       "      <td>The Da Vinci Code</td>\n",
       "      <td>7</td>\n",
       "    </tr>\n",
       "    <tr>\n",
       "      <th>385070</th>\n",
       "      <td>105274</td>\n",
       "      <td>The Never Ending Story</td>\n",
       "      <td>0</td>\n",
       "    </tr>\n",
       "    <tr>\n",
       "      <th>385071</th>\n",
       "      <td>105277</td>\n",
       "      <td>Banish Your Belly : The Ultimate Guide for Ach...</td>\n",
       "      <td>0</td>\n",
       "    </tr>\n",
       "    <tr>\n",
       "      <th>385072</th>\n",
       "      <td>105282</td>\n",
       "      <td>The Sparrow</td>\n",
       "      <td>0</td>\n",
       "    </tr>\n",
       "    <tr>\n",
       "      <th>385073</th>\n",
       "      <td>105282</td>\n",
       "      <td>Living Deliberately: The Discovery and Develop...</td>\n",
       "      <td>0</td>\n",
       "    </tr>\n",
       "  </tbody>\n",
       "</table>\n",
       "<p>383768 rows × 3 columns</p>\n",
       "</div>"
      ],
      "text/plain": [
       "        User-ID                                         Book-Title  \\\n",
       "0             2                                Classical Mythology   \n",
       "1             8                                       Clara Callan   \n",
       "2             8                               Decision in Normandy   \n",
       "3             8  Flu: The Story of the Great Influenza Pandemic...   \n",
       "4             8                             The Mummies of Urumchi   \n",
       "...         ...                                                ...   \n",
       "385069   105266                                  The Da Vinci Code   \n",
       "385070   105274                             The Never Ending Story   \n",
       "385071   105277  Banish Your Belly : The Ultimate Guide for Ach...   \n",
       "385072   105282                                        The Sparrow   \n",
       "385073   105282  Living Deliberately: The Discovery and Develop...   \n",
       "\n",
       "        Book-Rating  \n",
       "0                 0  \n",
       "1                 5  \n",
       "2                 0  \n",
       "3                 0  \n",
       "4                 0  \n",
       "...             ...  \n",
       "385069            7  \n",
       "385070            0  \n",
       "385071            0  \n",
       "385072            0  \n",
       "385073            0  \n",
       "\n",
       "[383768 rows x 3 columns]"
      ]
     },
     "execution_count": 45,
     "metadata": {},
     "output_type": "execute_result"
    }
   ],
   "source": [
    "rating.drop_duplicates(inplace=True)\n",
    "rating"
   ]
  },
  {
   "cell_type": "markdown",
   "id": "95dd3428",
   "metadata": {},
   "source": [
    "- Finally, there are 78782 records"
   ]
  },
  {
   "cell_type": "code",
   "execution_count": 46,
   "id": "ce28e613",
   "metadata": {},
   "outputs": [],
   "source": [
    "list_of_distinct_users = list(rating['User-ID'].unique())"
   ]
  },
  {
   "cell_type": "markdown",
   "id": "cb48cfab",
   "metadata": {},
   "source": [
    "### Machine Learning - Model Selection"
   ]
  },
  {
   "cell_type": "code",
   "execution_count": 50,
   "id": "6ca5556b",
   "metadata": {},
   "outputs": [
    {
     "ename": "ModuleNotFoundError",
     "evalue": "No module named 'surprise'",
     "output_type": "error",
     "traceback": [
      "\u001b[0;31m---------------------------------------------------------------------------\u001b[0m",
      "\u001b[0;31mModuleNotFoundError\u001b[0m                       Traceback (most recent call last)",
      "Cell \u001b[0;32mIn[50], line 2\u001b[0m\n\u001b[1;32m      1\u001b[0m \u001b[38;5;66;03m# creating a surprise object\u001b[39;00m\n\u001b[0;32m----> 2\u001b[0m \u001b[38;5;28;01mfrom\u001b[39;00m \u001b[38;5;21;01msurprise\u001b[39;00m \u001b[38;5;28;01mimport\u001b[39;00m Reader\n\u001b[1;32m      3\u001b[0m \u001b[38;5;28;01mfrom\u001b[39;00m \u001b[38;5;21;01msurprise\u001b[39;00m \u001b[38;5;28;01mimport\u001b[39;00m Dataset\n\u001b[1;32m      5\u001b[0m \u001b[38;5;66;03m# creating a surprise object\u001b[39;00m\n",
      "\u001b[0;31mModuleNotFoundError\u001b[0m: No module named 'surprise'"
     ]
    }
   ],
   "source": [
    "# creating a surprise object\n",
    "from surprise import Reader\n",
    "from surprise import Dataset\n",
    "\n",
    "# creating a surprise object\n",
    "reader = Reader(rating_scale=(0, 10))\n",
    "data = Dataset.load_from_df(rating[['User-ID','Book-Title','Book-Rating']], reader)\n",
    "\n",
    "reader = Reader(rating_scale=(0, 10))\n",
    "data   = Dataset.load_from_df(rating[['User-ID','Book-Title','Book-Rating']], reader)\n",
    "\n",
    "\n",
    "# Split the data into training & testing sets. Python's surprise documentation has the steps detailed out\n",
    "# https://surprise.readthedocs.io/en/stable/FAQ.html\n",
    "\n",
    "raw_ratings = data.raw_ratings\n",
    "import random\n",
    "random.shuffle(raw_ratings)                 # shuffle dataset\n",
    "\n",
    "threshold   = int(len(raw_ratings)*0.8)\n",
    "\n",
    "train_raw_ratings = raw_ratings[:threshold] # 80% of data is trainset\n",
    "test_raw_ratings  = raw_ratings[threshold:] # 20% of data is testset\n",
    "\n",
    "data.raw_ratings = train_raw_ratings        # data is now the trainset\n",
    "trainset         = data.build_full_trainset() \n",
    "testset          = data.construct_testset(test_raw_ratings)"
   ]
  },
  {
   "cell_type": "markdown",
   "id": "39483f16",
   "metadata": {},
   "source": [
    "Python's surprise library has several built-in algorithms for building rating based recommendation systems\n",
    "\n",
    "#### KNN (K Nearest Neighbours), memory based approach\n",
    "This algorithm takes into consideration up-to 'K' nearest users (in user based collaborative filtering) or 'K' nearest items (in item based collaborative filtering) for making recommendations. By default, the algorithm is 'user-based', and k is 40 (kmin is 1). This means ratings of 40 nearest users are considered while recommending an an item to a user. Some variants of this algorithm include WithMeans, WithZscore & Baseline wherein the average rating of users, or the normalized ZScores of ratings or the baseline rating are also considered as the system generates recommendations\n",
    "\n",
    "#### SVD (Singular Value Decomposition), model based approach\n",
    "This algorithm takes a matrix factorization approach. The user-item rating matrix is factorized into smaller dimension user & item matrices consisting of latent factors (hidden characteristics). By default, number of latent factors is 100. These latent factors are able to capture the known user-item rating preference & in the process  are able to predict an estimated rating for all user-item pair where user has not yet rated an item"
   ]
  },
  {
   "cell_type": "code",
   "execution_count": 51,
   "id": "7a88aeaa",
   "metadata": {},
   "outputs": [
    {
     "ename": "NameError",
     "evalue": "name 'KNNBasic' is not defined",
     "output_type": "error",
     "traceback": [
      "\u001b[0;31m---------------------------------------------------------------------------\u001b[0m",
      "\u001b[0;31mNameError\u001b[0m                                 Traceback (most recent call last)",
      "Cell \u001b[0;32mIn[51], line 3\u001b[0m\n\u001b[1;32m      1\u001b[0m \u001b[38;5;66;03m# Trying KNN (K-Nearest Neighbors) & SVD (Singluar Value decomposition) algorithms using default model parameters\u001b[39;00m\n\u001b[0;32m----> 3\u001b[0m models\u001b[38;5;241m=\u001b[39m[\u001b[43mKNNBasic\u001b[49m(),KNNWithMeans(),KNNWithZScore(),KNNBaseline(),SVD()] \n\u001b[1;32m      4\u001b[0m results \u001b[38;5;241m=\u001b[39m {}\n\u001b[1;32m      6\u001b[0m \u001b[38;5;28;01mfor\u001b[39;00m model \u001b[38;5;129;01min\u001b[39;00m models:\n\u001b[1;32m      7\u001b[0m     \u001b[38;5;66;03m# perform 5 fold cross validation\u001b[39;00m\n\u001b[1;32m      8\u001b[0m     \u001b[38;5;66;03m# evaluation metrics: mean absolute error & root mean square error\u001b[39;00m\n",
      "\u001b[0;31mNameError\u001b[0m: name 'KNNBasic' is not defined"
     ]
    }
   ],
   "source": [
    "# Trying KNN (K-Nearest Neighbors) & SVD (Singluar Value decomposition) algorithms using default model parameters\n",
    "\n",
    "models=[KNNBasic(),KNNWithMeans(),KNNWithZScore(),KNNBaseline(),SVD()] \n",
    "results = {}\n",
    "\n",
    "for model in models:\n",
    "    # perform 5 fold cross validation\n",
    "    # evaluation metrics: mean absolute error & root mean square error\n",
    "    CV_scores = cross_validate(model, data, measures=[\"MAE\",\"RMSE\"], cv=5, n_jobs=-1)  \n",
    "    \n",
    "    # storing the average score across the 5 fold cross validation for each model\n",
    "    result = pd.DataFrame.from_dict(CV_scores).mean(axis=0).\\\n",
    "             rename({'test_mae':'MAE', 'test_rmse': 'RMSE'})\n",
    "    results[str(model).split(\"algorithms.\")[1].split(\"object \")[0]] = result"
   ]
  },
  {
   "cell_type": "code",
   "execution_count": null,
   "id": "72dfa78d",
   "metadata": {},
   "outputs": [],
   "source": [
    "performance_df = pd.DataFrame.from_dict(results)\n",
    "print(\"Model Performance: \\n\")\n",
    "performance_df.T.sort_values(by='RMSE')"
   ]
  },
  {
   "cell_type": "markdown",
   "id": "03d6ca25",
   "metadata": {},
   "source": [
    "- KNNWithMeans has the least RMSE (root mean square error) among KNN algorithms\n",
    "- The model fit_time is the maximum for SVD but the model test_time is the least"
   ]
  },
  {
   "cell_type": "markdown",
   "id": "00fe4127",
   "metadata": {},
   "source": [
    "### Machine Learning – Hyperparameter tuning with GridSearchCV"
   ]
  },
  {
   "cell_type": "markdown",
   "id": "fbd7468c",
   "metadata": {},
   "source": [
    "#### KNNWithMeans\n",
    "\n",
    "- user_based: By default, this model parameter is 'True'. The other option 'False', corresponds to an item based approach\n",
    "- min_support: This refers to number of items to consider (in user based approach) or number of users to consider (in item based approach) to calculate similarity before setting it to 0\n",
    "- name: This refers to the distance measure that KNNWithMeans utilizes for calculating similarity. By default, the value is set as 'MSD' i.e., Mean Squared Distance. One other popular distance measure for rating based data is 'cosine' or angular distance. The cosine distance enables calculation of similarity among items & users accounting for inherent rating bias amongst users. E.g., users who like item2 twice as much as item1 may rate items as '8' & '4' if they are generous with their ratings but rate it only '4' & '2' if they are more stringent raters. MSD measures similarity based on the absolute ratings and will not be able to capture this inherent rating bias described above, however, cosine distance measure will be able to capture the same"
   ]
  },
  {
   "cell_type": "code",
   "execution_count": null,
   "id": "0c7804b5",
   "metadata": {},
   "outputs": [],
   "source": [
    "# Hyperparameter tuning - KNNWithMeans\n",
    "\n",
    "param_grid = { 'sim_options' : {'name': ['msd','cosine'], \\\n",
    "                                'min_support': [3,5], \\\n",
    "                                'user_based': [False, True]}\n",
    "             }\n",
    "\n",
    "gridsearchKNNWithMeans = GridSearchCV(KNNWithMeans, param_grid, measures=['mae', 'rmse'], \\\n",
    "                                      cv=5, n_jobs=-1)\n",
    "                                    \n",
    "gridsearchKNNWithMeans.fit(data)\n",
    "\n",
    "print(f'MAE Best Parameters:  {gridsearchKNNWithMeans.best_params[\"mae\"]}')\n",
    "print(f'MAE Best Score:       {gridsearchKNNWithMeans.best_score[\"mae\"]}\\n')\n",
    "\n",
    "print(f'RMSE Best Parameters: {gridsearchKNNWithMeans.best_params[\"rmse\"]}')\n",
    "print(f'RMSE Best Score:      {gridsearchKNNWithMeans.best_score[\"rmse\"]}\\n')"
   ]
  },
  {
   "cell_type": "markdown",
   "id": "5f424a97",
   "metadata": {},
   "source": [
    "- Post Hyperparameter Tuning with GridSearchCV, the best parameters are found to be different for MAE & RMSE metrics\n",
    "\n",
    "- 'Cosine' distance measure, min_support of 3 & user_based : False i.e., item based approach have been chosen for building recommendations\n",
    "\n",
    "The logic/code below can be modified to make recommendations using 'MSD' distance & user based method if needed"
   ]
  },
  {
   "cell_type": "code",
   "execution_count": null,
   "id": "4b49d4aa",
   "metadata": {},
   "outputs": [],
   "source": [
    "# Model fit & prediction - KNNWithMeans\n",
    "\n",
    "sim_options = {'name':'cosine','min_support':3,'user_based':False}\n",
    "final_model = KNNWithMeans(sim_options=sim_options)\n",
    "\n",
    "# Fitting the model on trainset & predicting on testset, printing test accuracy\n",
    "pred = final_model.fit(trainset).test(testset)\n",
    "\n",
    "print(f'\\nUnbiased Testing Performance:')\n",
    "print(f'MAE: {accuracy.mae(pred)}, RMSE: {accuracy.rmse(pred)}')"
   ]
  },
  {
   "cell_type": "markdown",
   "id": "fb70b881",
   "metadata": {},
   "source": [
    "- The MAE & RMSE metrics for testset are comparable with what was obtained using cross validation & hyperparameter tuning stages with trainset. Chosen model hence, generalizes well"
   ]
  },
  {
   "cell_type": "markdown",
   "id": "0cf3e224",
   "metadata": {},
   "source": [
    "#### SVD\n",
    "- n_factors: This refers to number of latent factors (hidden characteristics) for matrix factorization/ dimensionality reduction. By default, the value is 100\n",
    "- n_epochs: This refers to number of iterations of stochiastic gradient descent procedure, utilized by SVD for learning the parameters and minimizing error\n",
    "- lr_all & reg_all: i.e., learning rate and regularization rate. Learning rate is the step size of the said (above) SGD algorithm whereas regularization rate prevents overlearning, so the model may generalize well on data it has not yet seen. By default these values are set as 0.005 & 0.02"
   ]
  },
  {
   "cell_type": "code",
   "execution_count": null,
   "id": "c1592eef",
   "metadata": {},
   "outputs": [],
   "source": [
    "# Hyperparameter tuning - SVD\n",
    "\n",
    "param_grid = {\"n_factors\": range(10,100,20),\n",
    "              \"n_epochs\" : [5, 10, 20],\n",
    "              \"lr_all\"   : [0.002, 0.005],\n",
    "              \"reg_all\"  : [0.2, 0.5]}\n",
    "\n",
    "gridsearchSVD = GridSearchCV(SVD, param_grid, measures=['mae', 'rmse'], cv=5, n_jobs=-1)\n",
    "                                    \n",
    "gridsearchSVD.fit(data)\n",
    "\n",
    "print(f'MAE Best Parameters:  {gridsearchSVD.best_params[\"mae\"]}')\n",
    "print(f'MAE Best Score:       {gridsearchSVD.best_score[\"mae\"]}\\n')\n",
    "\n",
    "print(f'RMSE Best Parameters: {gridsearchSVD.best_params[\"rmse\"]}')\n",
    "print(f'RMSE Best Score:      {gridsearchSVD.best_score[\"rmse\"]}\\n')"
   ]
  },
  {
   "cell_type": "markdown",
   "id": "e2c6537e",
   "metadata": {},
   "source": [
    "- Post Hyperparameter Tuning with GridSearchCV, the best parameters are found to be different for MAE & RMSE metrics\n",
    "- 'n_factors':50, 'n_epochs':10, 'lr_all':0.005 & 'reg_all': 0.2  have been chosen for building recommendations"
   ]
  },
  {
   "cell_type": "code",
   "execution_count": null,
   "id": "0ec40a67",
   "metadata": {},
   "outputs": [],
   "source": [
    "# Model fit & prediction - SVD\n",
    "\n",
    "final_model = SVD(n_factors=50, n_epochs=10, lr_all=0.005, reg_all= 0.2)\n",
    "\n",
    "# Fitting the model on trainset & predicting on testset, printing test accuracy\n",
    "pred = final_model.fit(trainset).test(testset)\n",
    "\n",
    "print(f'\\nUnbiased Testing Performance')\n",
    "print(f'MAE: {accuracy.mae(pred)}, RMSE: {accuracy.rmse(pred)}')"
   ]
  },
  {
   "cell_type": "markdown",
   "id": "78635eb3",
   "metadata": {},
   "source": [
    "- The MAE & RMSE metrics for testset are comparable with what was obtained using cross validation & hyperparameter tuning stages with trainset. Chosen model hence again, generalizes well"
   ]
  },
  {
   "cell_type": "markdown",
   "id": "fcfd7e4f",
   "metadata": {},
   "source": [
    "### Building recommendations"
   ]
  },
  {
   "cell_type": "code",
   "execution_count": null,
   "id": "5e345e8b",
   "metadata": {},
   "outputs": [],
   "source": [
    "# Entire dataset will be used for building recommendations \n",
    "\n",
    "reader = Reader(rating_scale=(0, 10))\n",
    "data = Dataset.load_from_df(rating[['User-ID','Book-Title','Book-Rating']], reader)\n",
    "trainset = data.build_full_trainset()\n",
    "\n",
    "# A list of useful trainset methods are explained here: \n",
    "# https://surprise.readthedocs.io/en/stable/trainset.html"
   ]
  },
  {
   "cell_type": "markdown",
   "id": "3e9f8c81",
   "metadata": {},
   "source": [
    "Two different functions are written to generate recommendations with the final chosen models KNNWithMeans & SVD"
   ]
  },
  {
   "cell_type": "code",
   "execution_count": null,
   "id": "434d0899",
   "metadata": {},
   "outputs": [],
   "source": [
    "# KNNWithMeans\n",
    "\n",
    "def generate_recommendationsKNN(userID=13552, like_recommend=5, get_recommend =10):\n",
    "    \n",
    "    ''' This function generates \"get_recommend\" number of book recommendations using \n",
    "        KNNWithMeans & item based filtering. The function needs as input three \n",
    "        different parameters:\n",
    "        (1) userID i.e., userID for which recommendations need to be generated \n",
    "        (2) like_recommend i.e., number of top recommendations for the userID to be \n",
    "        considered for making recommendations \n",
    "        (3) get_recommend i.e., number of recommendations to generate for the userID\n",
    "        Default values are: userID=13552, like_recommend=5, get_recommend=10\n",
    "    '''\n",
    "    \n",
    "    # Compute item based similarity matrix\n",
    "    sim_options       = {'name':'cosine','min_support':3,'user_based':False}\n",
    "    similarity_matrix = KNNWithMeans(sim_options=sim_options).fit(trainset).\\\n",
    "                        compute_similarities() \n",
    "    \n",
    "    userID      = trainset.to_inner_uid(userID)    # converts the raw userID to innerID\n",
    "    userRatings = trainset.ur[userID]              # method .ur takes user innerID & \n",
    "                                                   # returns back user ratings\n",
    "    \n",
    "    \n",
    "    # userRatings is a list of tuples [(,),(,),(,)..]. Each tuple contains item & rating\n",
    "    # given by the user for that item. Next, the tuples will be sorted within the list \n",
    "    # in decreasing order of rating. Then top 'like_recommend' items & ratings are extracted\n",
    "    \n",
    "    temp_df = pd.DataFrame(userRatings).sort_values(by=1, ascending=False).\\\n",
    "              head(like_recommend)\n",
    "    userRatings = temp_df.to_records(index=False) \n",
    "    \n",
    "    # for each (item,rating) in top like_recommend user items, multiply the user rating for\n",
    "    # the item with the similarity score (later is obtained from item similarity_matrix) for\n",
    "    # all items. This helps calculate the weighted rating for all items. The weighted ratings \n",
    "    # are added & divided by sum of weights to estimate rating the user would give an item\n",
    "    \n",
    "    recommendations   = {}\n",
    "\n",
    "    for user_top_item, user_top_item_rating  in userRatings:\n",
    "\n",
    "        all_item_indices          =   list(pd.DataFrame(similarity_matrix)[user_top_item].index)\n",
    "        all_item_weighted_rating  =   list(pd.DataFrame(similarity_matrix)[user_top_item].values*\\\n",
    "                                          user_top_item_rating)\n",
    "        \n",
    "        all_item_weights          =   list(pd.DataFrame(similarity_matrix)[user_top_item].values)\n",
    "        \n",
    "        \n",
    "        # All items & final estimated ratings are added to a dictionary called recommendations\n",
    "        \n",
    "        for index in range(len(all_item_indices)):\n",
    "            if index in recommendations:\n",
    "                # sum of weighted ratings\n",
    "                recommendations[index] += all_item_weighted_rating[index]        \n",
    "            else:                        \n",
    "                recommendations[index]  = all_item_weighted_rating[index]\n",
    "\n",
    "    \n",
    "    for index in range(len(all_item_indices)):                               \n",
    "            if all_item_weights[index]  !=0:\n",
    "                # final ratings (sum of weighted ratings/sum of weights)\n",
    "                recommendations[index]   =recommendations[index]/\\\n",
    "                                          (all_item_weights[index]*like_recommend)\n",
    "                      \n",
    "\n",
    "    # convert dictionary recommendations to a be a list of tuples [(,),(,),(,)]\n",
    "    # with each tuple being an item & estimated rating user would give that item\n",
    "    # sort the tuples within the list to be in decreasing order of estimated ratings\n",
    "\n",
    "    temp_df = pd.Series(recommendations).reset_index().sort_values(by=0, ascending=False)\n",
    "    recommendations = list(temp_df.to_records(index=False))\n",
    "    \n",
    "    # return get_recommend number of recommedations (only return items the user \n",
    "    # has not previously rated)\n",
    "    \n",
    "    final_recommendations = []\n",
    "    count = 0\n",
    "    \n",
    "    for item, score in recommendations:\n",
    "        flag = True\n",
    "        for userItem, userRating in trainset.ur[userID]:\n",
    "            if item == userItem: \n",
    "                flag = False       # If item in recommendations has not been rated by user, \n",
    "                break              # add to final_recommendations\n",
    "        if flag == True:\n",
    "            final_recommendations.append(trainset.to_raw_iid(item)) \n",
    "            count +=1              # trainset has the items stored as inner id,  \n",
    "                                   # convert to raw id & append \n",
    "            \n",
    "        if count > get_recommend:  # Only get 'get_recommend' number of recommendations\n",
    "            break\n",
    "    \n",
    "    return(final_recommendations)"
   ]
  },
  {
   "cell_type": "code",
   "execution_count": null,
   "id": "9cbba0e1",
   "metadata": {},
   "outputs": [],
   "source": [
    "recommendationsKNN = generate_recommendationsKNN(userID=13552, like_recommend=5, get_recommend=10)\n",
    "recommendationsKNN"
   ]
  },
  {
   "cell_type": "markdown",
   "id": "0630d263",
   "metadata": {},
   "source": [
    "The above output shows the top 10 recommendations for userID 13552 based on the top 5 rated books of the user"
   ]
  },
  {
   "cell_type": "code",
   "execution_count": null,
   "id": "b7a07e3f",
   "metadata": {},
   "outputs": [],
   "source": [
    "# SVD\n",
    "\n",
    "def generate_recommendationsSVD(userID=13552, get_recommend =10):\n",
    "    \n",
    "    ''' This function generates \"get_recommend\" number of book recommendations \n",
    "        using Singular value decomposition. The function needs as input two \n",
    "        different parameters:\n",
    "        (1) userID i.e., userID for which recommendations need to be generated \n",
    "        (2) get_recommend i.e., number of recommendations to generate for the userID\n",
    "        Default values are: userID=13552, get_recommend=10\n",
    "    '''\n",
    "    \n",
    "    model = SVD(n_factors=50, n_epochs=10, lr_all=0.005, reg_all= 0.2)\n",
    "    model.fit(trainset)\n",
    "    \n",
    "    # predict rating for all pairs of users & items that are not in the trainset\n",
    "    \n",
    "    testset = trainset.build_anti_testset()\n",
    "    predictions = model.test(testset)\n",
    "    predictions_df = pd.DataFrame(predictions)\n",
    "    \n",
    "    # get the top get_recommend predictions for userID\n",
    "    \n",
    "    predictions_userID = predictions_df[predictions_df['uid'] == userID].\\\n",
    "                         sort_values(by=\"est\", ascending = False).head(get_recommend)\n",
    "    \n",
    "    recommendations = []\n",
    "    recommendations.append(list(predictions_userID['iid']))\n",
    "    recommendations = recommendations[0]\n",
    "    \n",
    "    return(recommendations)"
   ]
  },
  {
   "cell_type": "code",
   "execution_count": null,
   "id": "4417e661",
   "metadata": {},
   "outputs": [],
   "source": [
    "recommendationsSVD = generate_recommendationsSVD(userID=13552, get_recommend =10)\n",
    "recommendationsSVD"
   ]
  },
  {
   "cell_type": "code",
   "execution_count": 54,
   "id": "41792778-7e9a-43c2-b620-41b9a9730c79",
   "metadata": {},
   "outputs": [
    {
     "ename": "ModuleNotFoundError",
     "evalue": "No module named 'surprise'",
     "output_type": "error",
     "traceback": [
      "\u001b[0;31m---------------------------------------------------------------------------\u001b[0m",
      "\u001b[0;31mModuleNotFoundError\u001b[0m                       Traceback (most recent call last)",
      "Cell \u001b[0;32mIn[54], line 7\u001b[0m\n\u001b[1;32m      5\u001b[0m \u001b[38;5;28;01mimport\u001b[39;00m \u001b[38;5;21;01mplotly\u001b[39;00m\u001b[38;5;21;01m.\u001b[39;00m\u001b[38;5;21;01mgraph_objs\u001b[39;00m \u001b[38;5;28;01mas\u001b[39;00m \u001b[38;5;21;01mgo\u001b[39;00m\n\u001b[1;32m      6\u001b[0m \u001b[38;5;28;01mimport\u001b[39;00m \u001b[38;5;21;01mplotly\u001b[39;00m\u001b[38;5;21;01m.\u001b[39;00m\u001b[38;5;21;01mio\u001b[39;00m \u001b[38;5;28;01mas\u001b[39;00m \u001b[38;5;21;01mpio\u001b[39;00m\n\u001b[0;32m----> 7\u001b[0m \u001b[38;5;28;01mfrom\u001b[39;00m \u001b[38;5;21;01msurprise\u001b[39;00m \u001b[38;5;28;01mimport\u001b[39;00m Reader, Dataset\n\u001b[1;32m      8\u001b[0m \u001b[38;5;28;01mfrom\u001b[39;00m \u001b[38;5;21;01msurprise\u001b[39;00m\u001b[38;5;21;01m.\u001b[39;00m\u001b[38;5;21;01mmodel_selection\u001b[39;00m \u001b[38;5;28;01mimport\u001b[39;00m train_test_split, cross_validate, GridSearchCV\n\u001b[1;32m      9\u001b[0m \u001b[38;5;28;01mfrom\u001b[39;00m \u001b[38;5;21;01msurprise\u001b[39;00m \u001b[38;5;28;01mimport\u001b[39;00m KNNBasic, KNNWithMeans, KNNWithZScore, KNNBaseline, SVD\n",
      "\u001b[0;31mModuleNotFoundError\u001b[0m: No module named 'surprise'"
     ]
    }
   ],
   "source": [
    "# Libraries for data preparation & visualization\n",
    "import numpy as np\n",
    "import pandas as pd\n",
    "import plotly.offline as py\n",
    "import plotly.graph_objs as go\n",
    "import plotly.io as pio\n",
    "from surprise import Reader, Dataset\n",
    "from surprise.model_selection import train_test_split, cross_validate, GridSearchCV\n",
    "from surprise import KNNBasic, KNNWithMeans, KNNWithZScore, KNNBaseline, SVD\n",
    "from surprise import accuracy\n",
    "\n",
    "pio.renderers.default = \"png\"\n",
    "\n",
    "# Ignore printing warnings for general readability\n",
    "import warnings \n",
    "warnings.filterwarnings(\"ignore\")\n",
    "\n",
    "# Read the 3 different csv files \n",
    "book = pd.read_csv('/Users/rabin/College_Project_Seven/Books.csv', low_memory=False)\n",
    "rating = pd.read_csv('/Users/rabin/College_Project_Seven/Ratings.csv', encoding='latin-1', delimiter=';')\n",
    "user = pd.read_csv('/Users/rabin/College_Project_Seven/Users.csv', encoding='latin-1', delimiter=';')\n",
    "\n",
    "# Let's visualize the 'Book-Rating' column\n",
    "rating_types = rating['Book-Rating'].value_counts()\n",
    "x, y = rating_types.index, rating_types.values\n",
    "data = go.Bar(x=x, y=y, text=y, textposition=\"outside\")\n",
    "layout = go.Layout(title=\"Count of ratings\", xaxis={'title': 'Rating'}, yaxis={'title': 'Count'})\n",
    "fig = go.Figure(data, layout)\n",
    "py.iplot(fig)\n",
    "\n",
    "# Let's visualize ratings given by users\n",
    "rating_users = rating['User-ID'].value_counts().reset_index().\\\n",
    "               rename({'index':'User-ID','User-ID':'Rating'}, axis=1)\n",
    "\n",
    "data = go.Scatter(x=rating_users.index, y=rating_users['Rating'])\n",
    "layout = go.Layout(title=\"Ratings given per user\", xaxis={'title':'User Count'}, yaxis={'title':'Ratings'})\n",
    "fig = go.Figure(data, layout)\n",
    "py.iplot(fig)\n",
    "\n",
    "# Let's visualize ratings received by books\n",
    "rating_books = rating['ISBN'].value_counts().reset_index().\\\n",
    "               rename({'index':'ISBN','ISBN':'Rating'}, axis=1)\n",
    "\n",
    "data = go.Scatter(x=rating_books.index, y=rating_books['Rating'])\n",
    "layout = go.Layout(title=\"Ratings received per book\", xaxis={'title':'Book Count'}, yaxis={'title':'Ratings'})\n",
    "fig = go.Figure(data, layout)\n",
    "py.iplot(fig)\n",
    "\n",
    "# In order to avoid rating bias & for making good recommendations, limit the dataset to only those\n",
    "# users that have made at least 250 ratings & books that have received at least 50 ratings\n",
    "rating_users = rating['User-ID'].value_counts()\n",
    "rating_books = rating['ISBN'].value_counts()\n",
    "\n",
    "rating = rating[rating['User-ID'].isin(rating_users[rating_users > 250].index)]\n",
    "rating = rating[rating['ISBN'].isin(rating_books[rating_books > 50].index)]\n",
    "\n",
    "# For the recommendation system, it is preferred to have the book titles rather than ISBN for easier interpretation\n",
    "rating = rating.merge(book, on=\"ISBN\")[['User-ID', 'Book-Title', 'Book-Rating']]\n",
    "\n",
    "# Check for duplicate values\n",
    "print(f'Duplicate entries: {rating.duplicated().sum()}')\n",
    "rating.drop_duplicates(inplace=True)\n",
    "\n",
    "# Create surprise objects\n",
    "reader = Reader(rating_scale=(0, 10))\n",
    "data = Dataset.load_from_df(rating[['User-ID','Book-Title','Book-Rating']], reader)\n",
    "\n",
    "# Split the data into training & testing sets\n",
    "trainset, testset = train_test_split(data, test_size=0.2, random_state=42)\n",
    "\n",
    "# Trying KNN (K-Nearest Neighbors) & SVD (Singular Value Decomposition) algorithms using default model parameters\n",
    "models = [KNNBasic(), KNNWithMeans(), KNNWithZScore(), KNNBaseline(), SVD()] \n",
    "results = {}\n",
    "\n",
    "for model in models:\n",
    "    # Perform 5 fold cross validation\n",
    "    # Evaluation metrics: mean absolute error & root mean square error\n",
    "    CV_scores = cross_validate(model, data, measures=[\"MAE\", \"RMSE\"], cv=5, n_jobs=-1)  \n",
    "    \n",
    "    # Storing the average score across the 5 fold cross validation for each model\n",
    "    result = pd.DataFrame.from_dict(CV_scores).mean(axis=0).\\\n",
    "             rename({'test_mae':'MAE', 'test_rmse': 'RMSE'})\n",
    "    results[str(model).split(\"algorithms.\")[1].split(\"object \")[0]] = result\n",
    "\n",
    "performance_df = pd.DataFrame.from_dict(results)\n",
    "print(\"Model Performance: \\n\")\n",
    "print(performance_df.T.sort_values(by='RMSE'))\n",
    "\n",
    "# Hyperparameter tuning - KNNWithMeans\n",
    "param_grid = {'sim_options': {'name': ['msd', 'cosine'], \n",
    "                               'min_support': [3, 5], \n",
    "                               'user_based': [False, True]}\n",
    "             }\n",
    "\n",
    "gridsearchKNNWithMeans = GridSearchCV(KNNWithMeans, param_grid, measures=['mae', 'rmse'], cv=5, n_jobs=-1)\n",
    "gridsearchKNNWithMeans.fit(data)\n",
    "\n",
    "print(f'MAE Best Parameters: {gridsearchKNNWithMeans.best_params[\"mae\"]}')\n",
    "print(f'MAE Best Score: {gridsearchKNNWithMeans.best_score[\"mae\"]}\\n')\n",
    "\n",
    "print(f'RMSE Best Parameters: {gridsearchKNNWithMeans.best_params[\"rmse\"]}')\n",
    "print(f'RMSE Best Score: {gridsearchKNNWithMeans.best_score[\"rmse\"]}\\n')\n",
    "\n",
    "# Model fit & prediction - KNNWithMeans\n",
    "final_model_knn = KNNWithMeans(sim_options=gridsearchKNNWithMeans.best_params['rmse'])\n",
    "final_model_knn.fit(trainset)\n",
    "predictions_knn = final_model_knn.test(testset)\n",
    "\n",
    "print('\\nUnbiased Testing Performance for KNN:')\n",
    "print(f'MAE: {accuracy.mae(predictions_knn)}, RMSE: {accuracy.rmse(predictions_knn)}')\n",
    "\n",
    "# Hyperparameter tuning - SVD\n",
    "param_grid_svd = {\"n_factors\": range(10, 100, 20),\n",
    "                  \"n_epochs\": [5, 10, 20],\n",
    "                  \"lr_all\": [0.002, 0.005],\n",
    "                  \"reg_all\": [0.2, 0.5]}\n",
    "\n",
    "gridsearchSVD = GridSearchCV(SVD, param_grid_svd, measures=['mae', 'rmse'], cv=5, n_jobs=-1)\n",
    "gridsearchSVD.fit(data)\n",
    "\n",
    "print(f'MAE Best Parameters: {gridsearchSVD.best_params[\"mae\"]}')\n",
    "print(f'MAE Best Score: {gridsearchSVD.best_score[\"mae\"]}\\n')\n",
    "\n",
    "print(f'RMSE Best Parameters: {gridsearchSVD.best_params[\"rmse\"]}')\n",
    "print(f'RMSE Best Score: {gridsearchSVD.best_score[\"rmse\"]}\\n')\n",
    "\n",
    "# Model fit & prediction - SVD\n",
    "final_model_svd = SVD(n_factors=gridsearchSVD.best_params['rmse']['n_factors'], \n",
    "                      n_epochs=gridsearchSVD.best_params['rmse']['n_epochs'],\n",
    "                      lr_all=gridsearchSVD.best_params['rmse']['lr_all'],\n",
    "                      reg_all=gridsearchSVD.best_params['rmse']['reg_all'])\n"
   ]
  },
  {
   "cell_type": "markdown",
   "id": "4cffae57",
   "metadata": {},
   "source": [
    "The above output shows the top 10 recommendations for the same user 13552"
   ]
  },
  {
   "cell_type": "markdown",
   "id": "16990657",
   "metadata": {},
   "source": [
    "### Comparing recommendations"
   ]
  },
  {
   "cell_type": "markdown",
   "id": "fce2b7f9",
   "metadata": {},
   "source": [
    "- While the list of recommendations generated using KNNWithMeans & SVD are different (expected as they are different algorithms), there are some similarities in the generated lists too\n",
    "- Both algorithms recommended instances of Harry Potter novels for user 13552. Additionally, the recommended books seem to be a similar genre lending confidence in interpretability of recommendations"
   ]
  },
  {
   "cell_type": "markdown",
   "id": "815b329e",
   "metadata": {},
   "source": [
    "### Conlusions & next steps"
   ]
  },
  {
   "cell_type": "markdown",
   "id": "b67ce408",
   "metadata": {},
   "source": [
    "- We have successfully implemented a memory based as well as method based collaborative filtering approach to make recommendations in this project \n",
    "- In instances with a new user or new item where little is known of the rating preference, collaborative filtering may not be the method of choice for generating recommendations. Content based filtering methods may be more appropriate. Often, a hybrid approach is taken for building real time recommendations using multiple different approaches in industry! The project can be extended to build hybrid recommendation systems in the future"
   ]
  }
 ],
 "metadata": {
  "kernelspec": {
   "display_name": "Python 3 (ipykernel)",
   "language": "python",
   "name": "python3"
  },
  "language_info": {
   "codemirror_mode": {
    "name": "ipython",
    "version": 3
   },
   "file_extension": ".py",
   "mimetype": "text/x-python",
   "name": "python",
   "nbconvert_exporter": "python",
   "pygments_lexer": "ipython3",
   "version": "3.12.1"
  }
 },
 "nbformat": 4,
 "nbformat_minor": 5
}
