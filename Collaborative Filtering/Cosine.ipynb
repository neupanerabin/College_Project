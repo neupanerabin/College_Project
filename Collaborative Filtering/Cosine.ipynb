{
 "cells": [
  {
   "cell_type": "code",
   "execution_count": 1,
   "id": "5306d9c0-588b-4596-b642-58be6f76d29b",
   "metadata": {},
   "outputs": [
    {
     "name": "stderr",
     "output_type": "stream",
     "text": [
      "/var/folders/4j/wqkxszcs5jl9436sl4hsmprh0000gn/T/ipykernel_58401/3791925645.py:6: DeprecationWarning: \n",
      "Pyarrow will become a required dependency of pandas in the next major release of pandas (pandas 3.0),\n",
      "(to allow more performant data types, such as the Arrow string type, and better interoperability with other libraries)\n",
      "but was not found to be installed on your system.\n",
      "If this would cause problems for you,\n",
      "please provide us feedback at https://github.com/pandas-dev/pandas/issues/54466\n",
      "        \n",
      "  import pandas as pd\n"
     ]
    }
   ],
   "source": [
    "import os\n",
    "import json\n",
    "import sys\n",
    "import logging\n",
    "import numpy as np\n",
    "import pandas as pd"
   ]
  },
  {
   "cell_type": "code",
   "execution_count": 8,
   "id": "0be11bd8-1c6d-4f24-8c37-636f3e164d54",
   "metadata": {},
   "outputs": [],
   "source": [
    "#Loading Dataset\n",
    "import csv\n",
    "# Read the 3 different csv files \n",
    "books = pd.read_csv('/Users/rabin/College_Project_Seven/Books.csv', low_memory=False)\n",
    "ratings = pd.read_csv('/Users/rabin/College_Project_Seven/Ratings.csv', encoding='latin-1', delimiter=';')\n",
    "users = pd.read_csv('/Users/rabin/College_Project_Seven/Users.csv', encoding='latin-1', delimiter=';')\n"
   ]
  },
  {
   "cell_type": "code",
   "execution_count": 9,
   "id": "8e693969-ff17-4a44-b344-40d7d25c5c9e",
   "metadata": {},
   "outputs": [],
   "source": [
    "\n",
    "# Manually calculate cosine similarity\n",
    "def cosine_similarity_manual(matrix):\n",
    "    \"\"\"\n",
    "    Calculate the cosine similarity between rows of a matrix.\n",
    "\n",
    "    Parameters:\n",
    "    - matrix: 2D numpy array where each row represents a vector.\n",
    "\n",
    "    Returns:\n",
    "    - similarity_scores: 2D numpy array containing cosine similarity scores.\n",
    "    \"\"\"\n",
    "    # Manually calculate dot product\n",
    "    dot_product = np.array([[np.sum(matrix[i] * matrix[j]) for j in range(matrix.shape[0])] for i in range(matrix.shape[0])])\n",
    "\n",
    "    # Manually calculate normalization\n",
    "    norm = np.sqrt(np.sum(matrix**2, axis=1))\n",
    "    norm_matrix = np.outer(norm, norm)\n",
    "    \n",
    "    # Calculate cosine similarity scores\n",
    "    similarity_scores = dot_product / norm_matrix\n",
    "    \n",
    "    return similarity_scores"
   ]
  },
  {
   "cell_type": "code",
   "execution_count": 10,
   "id": "3614bae8-1cc3-4351-9858-8ba7750d11d9",
   "metadata": {},
   "outputs": [],
   "source": [
    "# Filtered DataFrame based on user ratings\n",
    "ratings_with_name = ratings.merge(books,on='ISBN')\n",
    "x = ratings_with_name.groupby('User-ID').count()['Book-Rating'] >200\n",
    "criticalusers = x[x].index"
   ]
  },
  {
   "cell_type": "code",
   "execution_count": 11,
   "id": "72a2240a-3ecc-4d16-a341-e706187fd992",
   "metadata": {},
   "outputs": [],
   "source": [
    "filtered_rating = ratings_with_name[ratings_with_name['User-ID'].isin(criticalusers)]\n"
   ]
  },
  {
   "cell_type": "code",
   "execution_count": 12,
   "id": "360d8775-c687-4583-9c29-3f9e5a0394dd",
   "metadata": {},
   "outputs": [],
   "source": [
    "\n",
    "# Filtered DataFrame based on famous books\n",
    "y = filtered_rating.groupby('Book-Title').count()['Book-Rating'] >= 50\n",
    "famous_books = y[y].index\n"
   ]
  },
  {
   "cell_type": "code",
   "execution_count": 13,
   "id": "f2d15613-8b25-4cce-a562-ae7c0a96ce02",
   "metadata": {},
   "outputs": [],
   "source": [
    "final_ratings = filtered_rating[filtered_rating['Book-Title'].isin(famous_books)]\n"
   ]
  },
  {
   "cell_type": "code",
   "execution_count": 14,
   "id": "8273936e-70c1-4d8b-bf19-51fda4ba8fa1",
   "metadata": {},
   "outputs": [],
   "source": [
    "\n",
    "# Create a pivot table\n",
    "pt = final_ratings.pivot_table(index='Book-Title', columns='User-ID', values='Book-Rating')\n"
   ]
  },
  {
   "cell_type": "code",
   "execution_count": 15,
   "id": "49e3707a-6f94-4a26-83c3-612596fa1af9",
   "metadata": {},
   "outputs": [],
   "source": [
    "pt.fillna(0, inplace=True)\n"
   ]
  },
  {
   "cell_type": "code",
   "execution_count": 16,
   "id": "5d1427ab-711c-4c06-a91c-98feb7dae535",
   "metadata": {},
   "outputs": [],
   "source": [
    "similarity_scores_manual = cosine_similarity_manual(pt.values)\n"
   ]
  },
  {
   "cell_type": "code",
   "execution_count": 17,
   "id": "5473ad68-07f2-4616-86e7-b7dcb80a1ac3",
   "metadata": {},
   "outputs": [],
   "source": [
    "similarity_scores_manual = cosine_similarity_manual(pt.values)\n",
    "\n",
    "# Recommendation function\n",
    "def recommend(book_name):\n",
    "    try:\n",
    "        if book_name in pt.index:\n",
    "            # index fetch\n",
    "            index = np.where(pt.index == book_name)[0][0]\n",
    "            similar_items = sorted(list(enumerate(similarity_scores_manual[index])), key=lambda x: x[1], reverse=True)[1:5]\n",
    "            \n",
    "            data = []\n",
    "            for i in similar_items:\n",
    "                item = {}\n",
    "                temp_df = books[books['Book-Title'] == pt.index[i[0]]]\n",
    "                item['BookTitle'] = temp_df.drop_duplicates('Book-Title')['Book-Title'].values[0]\n",
    "                #item['ISBN'] = temp_df.drop_duplicates('Book-Title')['ISBN'].values[0]  # Assuming ISBN is a column in your dataset\n",
    "                #item['ImageURL'] = temp_df.drop_duplicates('Book-Title')['Image-URL-M'].values[0]\n",
    "                \n",
    "                data.append(item)\n",
    "            return data\n",
    "        else:\n",
    "            print(f\"Book '{book_name}' not found in the dataset.\")\n",
    "            return None\n",
    "    except Exception as e:\n",
    "        logging.error(f\"An error occurred: {str(e)}\")\n",
    "        return None\n",
    "\n",
    "\n"
   ]
  },
  {
   "cell_type": "code",
   "execution_count": null,
   "id": "7d268202-fbc6-4495-94b2-ea5d0af32479",
   "metadata": {},
   "outputs": [],
   "source": []
  }
 ],
 "metadata": {
  "kernelspec": {
   "display_name": "Python 3 (ipykernel)",
   "language": "python",
   "name": "python3"
  },
  "language_info": {
   "codemirror_mode": {
    "name": "ipython",
    "version": 3
   },
   "file_extension": ".py",
   "mimetype": "text/x-python",
   "name": "python",
   "nbconvert_exporter": "python",
   "pygments_lexer": "ipython3",
   "version": "3.12.1"
  }
 },
 "nbformat": 4,
 "nbformat_minor": 5
}
